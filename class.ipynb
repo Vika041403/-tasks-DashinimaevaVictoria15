{
 "cells": [
  {
   "cell_type": "code",
   "execution_count": 1,
   "id": "d830d25a",
   "metadata": {},
   "outputs": [],
   "source": [
    "class Character():\n",
    "    all = []\n",
    "    def __init__(self, name, gender, ability):\n",
    "        self.name = name\n",
    "        self.gender = gender\n",
    "        self.ability = ability\n",
    "        self.character_energy = 12\n",
    "        self.life_energy = 0\n",
    "        Character.all.append(self)\n",
    "        \n",
    "    def __repr__(self):\n",
    "        return f'this is object {self.__class__.__name__} class,atribute=  {self.name }, {self.gender}, {self.ability}'\n",
    "        \n",
    "    def energy_charge(self):\n",
    "        self.life_energy = self.character_energy\n",
    "        print(f'life energy of {self.name} is full now')\n",
    "    \n",
    "     \n",
    "    def walking(self):\n",
    "        if (self.life_energy>0): \n",
    "            print(f'top top, the {self.name} is walking')\n",
    "            self.life_energy -=1\n",
    "        else:\n",
    "            print(f'{self.name} life energy is empty, please restore energy')    \n",
    "            \n",
    "    def shooting(self): \n",
    "        if (self.life_energy>0): \n",
    "                print(f'paw paw, the {self.name} is shooting')\n",
    "                self.life_energy -=1\n",
    "        else:\n",
    "            print(f'{self.name} life energy is empty, please restore energy')  \n",
    "            \n",
    "    def fighting(self): \n",
    "        if (self.life_energy>0): \n",
    "            print(f'punch punch, the {self.name} is fighting')\n",
    "            self.life_energy -=1   \n",
    "        else:\n",
    "            print(f'{self.name} life energy is empty, please restore energy')  \n",
    "            \n",
    "    def injured(self): \n",
    "        if (self.life_energy>0): \n",
    "            print(f'bleed bleed, the {self.name} is injured')\n",
    "            self.life_energy -=2   \n",
    "        else:\n",
    "            print(f'{self.name} life energy is empty, please restore energy')  \n",
    "   "
   ]
  },
  {
   "cell_type": "code",
   "execution_count": 2,
   "id": "93d5fd12",
   "metadata": {},
   "outputs": [],
   "source": [
    "character1 = Character('pudj','male','strong')"
   ]
  },
  {
   "cell_type": "code",
   "execution_count": 3,
   "id": "69f64b98",
   "metadata": {},
   "outputs": [
    {
     "name": "stdout",
     "output_type": "stream",
     "text": [
      "pudj life energy is empty, please restore energy\n"
     ]
    }
   ],
   "source": [
    "character1.walking()"
   ]
  },
  {
   "cell_type": "code",
   "execution_count": 4,
   "id": "f73e323c",
   "metadata": {},
   "outputs": [
    {
     "name": "stdout",
     "output_type": "stream",
     "text": [
      "life energy of pudj is full now\n"
     ]
    }
   ],
   "source": [
    "character1.energy_charge()"
   ]
  },
  {
   "cell_type": "code",
   "execution_count": 5,
   "id": "51a7a46b",
   "metadata": {},
   "outputs": [
    {
     "name": "stdout",
     "output_type": "stream",
     "text": [
      "top top, the pudj is walking\n"
     ]
    }
   ],
   "source": [
    "character1.walking()"
   ]
  },
  {
   "cell_type": "code",
   "execution_count": 6,
   "id": "c4ad2e4b",
   "metadata": {},
   "outputs": [
    {
     "data": {
      "text/plain": [
       "11"
      ]
     },
     "execution_count": 6,
     "metadata": {},
     "output_type": "execute_result"
    }
   ],
   "source": [
    "character1.life_energy"
   ]
  },
  {
   "cell_type": "code",
   "execution_count": 7,
   "id": "7fdc8381",
   "metadata": {},
   "outputs": [
    {
     "name": "stdout",
     "output_type": "stream",
     "text": [
      "punch punch, the pudj is fighting\n"
     ]
    }
   ],
   "source": [
    "character1.fighting()"
   ]
  },
  {
   "cell_type": "code",
   "execution_count": 8,
   "id": "6c2f6b99",
   "metadata": {},
   "outputs": [
    {
     "data": {
      "text/plain": [
       "10"
      ]
     },
     "execution_count": 8,
     "metadata": {},
     "output_type": "execute_result"
    }
   ],
   "source": [
    "character1.life_energy"
   ]
  },
  {
   "cell_type": "code",
   "execution_count": 9,
   "id": "1d9aa203",
   "metadata": {},
   "outputs": [
    {
     "name": "stdout",
     "output_type": "stream",
     "text": [
      "paw paw, the pudj is shooting\n"
     ]
    }
   ],
   "source": [
    "character1.shooting()"
   ]
  },
  {
   "cell_type": "code",
   "execution_count": 10,
   "id": "b6796c8a",
   "metadata": {},
   "outputs": [
    {
     "name": "stdout",
     "output_type": "stream",
     "text": [
      "bleed bleed, the pudj is injured\n"
     ]
    }
   ],
   "source": [
    "character1.injured()"
   ]
  },
  {
   "cell_type": "code",
   "execution_count": 11,
   "id": "31ed33ea",
   "metadata": {},
   "outputs": [
    {
     "data": {
      "text/plain": [
       "7"
      ]
     },
     "execution_count": 11,
     "metadata": {},
     "output_type": "execute_result"
    }
   ],
   "source": [
    "character1.life_energy"
   ]
  },
  {
   "cell_type": "code",
   "execution_count": 12,
   "id": "cec60c93",
   "metadata": {},
   "outputs": [
    {
     "name": "stdout",
     "output_type": "stream",
     "text": [
      "punch punch, the pudj is fighting\n"
     ]
    }
   ],
   "source": [
    "character1.fighting()"
   ]
  },
  {
   "cell_type": "code",
   "execution_count": 13,
   "id": "d5635479",
   "metadata": {},
   "outputs": [
    {
     "name": "stdout",
     "output_type": "stream",
     "text": [
      "paw paw, the pudj is shooting\n"
     ]
    }
   ],
   "source": [
    "character1.shooting()"
   ]
  },
  {
   "cell_type": "code",
   "execution_count": 14,
   "id": "0ff40ff5",
   "metadata": {},
   "outputs": [
    {
     "name": "stdout",
     "output_type": "stream",
     "text": [
      "bleed bleed, the pudj is injured\n"
     ]
    }
   ],
   "source": [
    "character1.injured()"
   ]
  },
  {
   "cell_type": "code",
   "execution_count": 15,
   "id": "d047daa7",
   "metadata": {},
   "outputs": [
    {
     "name": "stdout",
     "output_type": "stream",
     "text": [
      "top top, the pudj is walking\n"
     ]
    }
   ],
   "source": [
    "character1.walking()"
   ]
  },
  {
   "cell_type": "code",
   "execution_count": 16,
   "id": "332e694e",
   "metadata": {},
   "outputs": [
    {
     "data": {
      "text/plain": [
       "2"
      ]
     },
     "execution_count": 16,
     "metadata": {},
     "output_type": "execute_result"
    }
   ],
   "source": [
    "character1.life_energy"
   ]
  },
  {
   "cell_type": "code",
   "execution_count": 17,
   "id": "c97c5756",
   "metadata": {},
   "outputs": [
    {
     "name": "stdout",
     "output_type": "stream",
     "text": [
      "bleed bleed, the pudj is injured\n"
     ]
    }
   ],
   "source": [
    "character1.injured()"
   ]
  },
  {
   "cell_type": "code",
   "execution_count": 18,
   "id": "18e23ea1",
   "metadata": {},
   "outputs": [
    {
     "name": "stdout",
     "output_type": "stream",
     "text": [
      "pudj life energy is empty, please restore energy\n"
     ]
    }
   ],
   "source": [
    "character1.walking()"
   ]
  },
  {
   "cell_type": "code",
   "execution_count": 19,
   "id": "bb5c756a",
   "metadata": {},
   "outputs": [
    {
     "name": "stdout",
     "output_type": "stream",
     "text": [
      "life energy of pudj is full now\n"
     ]
    }
   ],
   "source": [
    "character1.energy_charge()"
   ]
  },
  {
   "cell_type": "code",
   "execution_count": 20,
   "id": "70db45a0",
   "metadata": {},
   "outputs": [],
   "source": [
    "character1 = Character('pudj','male','strong')\n",
    "character2 = Character('Puck','male','smart')\n",
    "character3 = Character('Hoodwink','male','dexterous')"
   ]
  },
  {
   "cell_type": "code",
   "execution_count": 21,
   "id": "d3b44762",
   "metadata": {},
   "outputs": [],
   "source": [
    "class Supercharacter(Character):\n",
    "    \n",
    "    def __init__(self, name, gender, ability, mana_size):\n",
    "        super().__init__(name, gender, ability)\n",
    "        self.mana_size= mana_size\n",
    "        self.mana_level = 0\n",
    "        \n",
    "    def charge(self):\n",
    "        self.mana_level = self.mana_size\n",
    "        print(f'mana level of {self.name} is full now')\n",
    "        \n",
    "    def fighting(self): \n",
    "        if self.mana_level<=0:\n",
    "            print(f'please charge {self.name}')\n",
    "        else:\n",
    "            super().fighting()"
   ]
  },
  {
   "cell_type": "code",
   "execution_count": 22,
   "id": "6959eccc",
   "metadata": {},
   "outputs": [],
   "source": [
    "character4= Supercharacter('Abaddon','male','strong',20)\n",
    "character5= Supercharacter('Windranger','female','smart',25)"
   ]
  },
  {
   "cell_type": "code",
   "execution_count": 23,
   "id": "c4c8fed4",
   "metadata": {},
   "outputs": [
    {
     "name": "stdout",
     "output_type": "stream",
     "text": [
      "this is object character class,atribute=  pudj, male, strong\n",
      "this is object character class,atribute=  pudj, male, strong\n",
      "this is object character class,atribute=  Puck, male, smart\n",
      "this is object character class,atribute=  Hoodwink, male, dexterous\n",
      "this is object supercharacter class,atribute=  Abaddon, male, strong\n",
      "this is object supercharacter class,atribute=  Windranger, female, smart\n"
     ]
    }
   ],
   "source": [
    "for item in character.all:\n",
    "    print(item)"
   ]
  },
  {
   "cell_type": "code",
   "execution_count": 24,
   "id": "6b12e72c",
   "metadata": {},
   "outputs": [],
   "source": [
    "character4= Supercharacter('Abaddon','male','strong',20)"
   ]
  },
  {
   "cell_type": "code",
   "execution_count": 25,
   "id": "84b5e75b",
   "metadata": {},
   "outputs": [
    {
     "name": "stdout",
     "output_type": "stream",
     "text": [
      "please charge Abaddon\n"
     ]
    }
   ],
   "source": [
    "character4.fighting()"
   ]
  },
  {
   "cell_type": "code",
   "execution_count": 26,
   "id": "26f25730",
   "metadata": {},
   "outputs": [
    {
     "data": {
      "text/plain": [
       "0"
      ]
     },
     "execution_count": 26,
     "metadata": {},
     "output_type": "execute_result"
    }
   ],
   "source": [
    "character4.mana_level"
   ]
  },
  {
   "cell_type": "code",
   "execution_count": 27,
   "id": "f547a083",
   "metadata": {},
   "outputs": [
    {
     "name": "stdout",
     "output_type": "stream",
     "text": [
      "mana level of Abaddon is full now\n"
     ]
    }
   ],
   "source": [
    "character4.charge()"
   ]
  },
  {
   "cell_type": "code",
   "execution_count": 28,
   "id": "28b10cc9",
   "metadata": {},
   "outputs": [
    {
     "data": {
      "text/plain": [
       "20"
      ]
     },
     "execution_count": 28,
     "metadata": {},
     "output_type": "execute_result"
    }
   ],
   "source": [
    "character4.mana_level"
   ]
  },
  {
   "cell_type": "code",
   "execution_count": 29,
   "id": "5e533b12",
   "metadata": {},
   "outputs": [
    {
     "name": "stdout",
     "output_type": "stream",
     "text": [
      "Abaddon life energy is empty, please restore energy\n"
     ]
    }
   ],
   "source": [
    "character4.fighting()"
   ]
  },
  {
   "cell_type": "code",
   "execution_count": 30,
   "id": "cde26817",
   "metadata": {},
   "outputs": [
    {
     "name": "stdout",
     "output_type": "stream",
     "text": [
      "life energy of Abaddon is full now\n"
     ]
    }
   ],
   "source": [
    "character4.energy_charge()"
   ]
  },
  {
   "cell_type": "code",
   "execution_count": 31,
   "id": "f4c2b5aa",
   "metadata": {},
   "outputs": [
    {
     "name": "stdout",
     "output_type": "stream",
     "text": [
      "punch punch, the Abaddon is fighting\n"
     ]
    }
   ],
   "source": [
    "character4.fighting()"
   ]
  },
  {
   "cell_type": "code",
   "execution_count": 32,
   "id": "3193796b",
   "metadata": {},
   "outputs": [
    {
     "data": {
      "text/plain": [
       "11"
      ]
     },
     "execution_count": 32,
     "metadata": {},
     "output_type": "execute_result"
    }
   ],
   "source": [
    "character4.life_energy"
   ]
  },
  {
   "cell_type": "code",
   "execution_count": null,
   "id": "65cdb8ad",
   "metadata": {},
   "outputs": [],
   "source": []
  }
 ],
 "metadata": {
  "kernelspec": {
   "display_name": "Python 3",
   "language": "python",
   "name": "python3"
  },
  "language_info": {
   "codemirror_mode": {
    "name": "ipython",
    "version": 3
   },
   "file_extension": ".py",
   "mimetype": "text/x-python",
   "name": "python",
   "nbconvert_exporter": "python",
   "pygments_lexer": "ipython3",
   "version": "3.8.8"
  }
 },
 "nbformat": 4,
 "nbformat_minor": 5
}
