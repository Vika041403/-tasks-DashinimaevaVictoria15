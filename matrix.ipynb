{
 "cells": [
  {
   "cell_type": "code",
   "execution_count": 1,
   "id": "dc892022",
   "metadata": {},
   "outputs": [],
   "source": [
    "import numpy as np\n",
    "import random"
   ]
  },
  {
   "cell_type": "code",
   "execution_count": 2,
   "id": "4492a91f",
   "metadata": {},
   "outputs": [],
   "source": [
    "onet=[-1,1]"
   ]
  },
  {
   "cell_type": "code",
   "execution_count": 3,
   "id": "7ef71b44",
   "metadata": {},
   "outputs": [],
   "source": [
    "sum=0\n",
    "nsum=0\n",
    "x=0"
   ]
  },
  {
   "cell_type": "code",
   "execution_count": 4,
   "id": "f7b82039",
   "metadata": {},
   "outputs": [
    {
     "name": "stdout",
     "output_type": "stream",
     "text": [
      "введите число больше 2: 3\n"
     ]
    }
   ],
   "source": [
    "n = int(input('введите число больше 2: '))"
   ]
  },
  {
   "cell_type": "code",
   "execution_count": 5,
   "id": "d34e319d",
   "metadata": {},
   "outputs": [],
   "source": [
    "matrix=np.zeros((n,n))"
   ]
  },
  {
   "cell_type": "code",
   "execution_count": 6,
   "id": "3bb56e4e",
   "metadata": {},
   "outputs": [
    {
     "name": "stdout",
     "output_type": "stream",
     "text": [
      "[[-1. -1.  1.]\n",
      " [-1.  1.  1.]\n",
      " [-1. -1. -1.]]\n"
     ]
    }
   ],
   "source": [
    "for i in range(n):\n",
    "    for j in range(n):\n",
    "        matrix[i,j]=random.choice(onet)\n",
    "print(matrix)"
   ]
  },
  {
   "cell_type": "code",
   "execution_count": 9,
   "id": "135e5f48",
   "metadata": {},
   "outputs": [
    {
     "name": "stdout",
     "output_type": "stream",
     "text": [
      "6.0\n"
     ]
    }
   ],
   "source": [
    "for i in range(n):\n",
    "    for j in range(n):\n",
    "        nsum+=matrix[i,j]*matrix[i,j-1]\n",
    "        x+=matrix[i-1,j]*matrix[i,j]\n",
    "        \n",
    "sum=nsum+x\n",
    "print(sum)"
   ]
  },
  {
   "cell_type": "code",
   "execution_count": null,
   "id": "a676ddee",
   "metadata": {},
   "outputs": [],
   "source": []
  }
 ],
 "metadata": {
  "kernelspec": {
   "display_name": "Python 3",
   "language": "python",
   "name": "python3"
  },
  "language_info": {
   "codemirror_mode": {
    "name": "ipython",
    "version": 3
   },
   "file_extension": ".py",
   "mimetype": "text/x-python",
   "name": "python",
   "nbconvert_exporter": "python",
   "pygments_lexer": "ipython3",
   "version": "3.8.8"
  }
 },
 "nbformat": 4,
 "nbformat_minor": 5
}
