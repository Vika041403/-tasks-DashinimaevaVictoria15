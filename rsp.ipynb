{
 "cells": [
  {
   "cell_type": "code",
   "execution_count": 70,
   "id": "a72f2124",
   "metadata": {},
   "outputs": [],
   "source": [
    "import random"
   ]
  },
  {
   "cell_type": "code",
   "execution_count": 91,
   "id": "f3c7b34e",
   "metadata": {},
   "outputs": [
    {
     "name": "stdout",
     "output_type": "stream",
     "text": [
      "введите 'rock' или 'scissors' или 'paper' paper\n",
      "you win me = paper  pc = rock\n"
     ]
    }
   ],
   "source": [
    "me = input(\"введите 'rock' или 'scissors' или 'paper' \")\n",
    "key = ['rock', 'scissors', 'paper']\n",
    "pc = random.choice(keys)\n",
    "if me == 'paper' and pc == 'scissors':\n",
    "    res = 2    \n",
    "elif me == 'rock' and pc == 'scissors':\n",
    "    res = 1\n",
    "elif me == 'rock' and pc == 'paper':\n",
    "    res = 2\n",
    "elif me =='scissors' and pc == 'rock':\n",
    "     res = 2\n",
    "elif me == 'scissors' and pc == 'paper':\n",
    "     res = 1\n",
    "elif me == 'paper' and pc == 'rock':\n",
    "    res = 1\n",
    "else:\n",
    "    res = 0\n",
    "   \n",
    "if res == 1:\n",
    "    print(\"you win\",'me =',me,' pc =',pc)\n",
    "elif res == 2:\n",
    "    print(\"you lose\",'me =',me,' pc =',pc) \n",
    "else:\n",
    "    print(\"draw\",'me =',me,' pc =',pc)     "
   ]
  }
 ],
 "metadata": {
  "kernelspec": {
   "display_name": "Python 3",
   "language": "python",
   "name": "python3"
  },
  "language_info": {
   "codemirror_mode": {
    "name": "ipython",
    "version": 3
   },
   "file_extension": ".py",
   "mimetype": "text/x-python",
   "name": "python",
   "nbconvert_exporter": "python",
   "pygments_lexer": "ipython3",
   "version": "3.8.8"
  }
 },
 "nbformat": 4,
 "nbformat_minor": 5
}
